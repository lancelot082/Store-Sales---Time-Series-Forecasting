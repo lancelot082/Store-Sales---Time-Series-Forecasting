{
 "cells": [
  {
   "cell_type": "code",
   "execution_count": 1,
   "id": "f6bbd378",
   "metadata": {
    "execution": {
     "iopub.execute_input": "2024-12-25T15:18:42.824295Z",
     "iopub.status.busy": "2024-12-25T15:18:42.823865Z",
     "iopub.status.idle": "2024-12-25T15:18:46.980248Z",
     "shell.execute_reply": "2024-12-25T15:18:46.979092Z"
    },
    "papermill": {
     "duration": 4.165489,
     "end_time": "2024-12-25T15:18:46.982887",
     "exception": false,
     "start_time": "2024-12-25T15:18:42.817398",
     "status": "completed"
    },
    "tags": []
   },
   "outputs": [],
   "source": [
    "import numpy as np \n",
    "import pandas as pd \n",
    "import plotly.express as px  \n",
    "import xgboost as xgb\n",
    "from sklearn.pipeline import *\n",
    "from sklearn.preprocessing import *\n",
    "from sklearn.impute import *\n",
    "from sklearn.metrics import *\n",
    "from sklearn.model_selection import *\n",
    "from sklearn.metrics import *\n",
    "from sklearn.preprocessing import *\n",
    "from sklearn.compose import *\n",
    "from statsmodels.tsa.seasonal import STL\n",
    "\n",
    "import xgboost as xgb\n",
    "from sklearn.pipeline import Pipeline\n",
    "from sklearn.compose import ColumnTransformer\n",
    "from sklearn.impute import SimpleImputer\n",
    "from sklearn.preprocessing import StandardScaler, OneHotEncoder\n",
    "import numpy as np\n",
    "from math import sqrt\n",
    "from sklearn.ensemble import GradientBoostingRegressor\n",
    "from sklearn.metrics import mean_squared_log_error"
   ]
  },
  {
   "cell_type": "code",
   "execution_count": 2,
   "id": "65e3760a",
   "metadata": {
    "execution": {
     "iopub.execute_input": "2024-12-25T15:18:46.993686Z",
     "iopub.status.busy": "2024-12-25T15:18:46.993046Z",
     "iopub.status.idle": "2024-12-25T15:18:50.441239Z",
     "shell.execute_reply": "2024-12-25T15:18:50.440145Z"
    },
    "papermill": {
     "duration": 3.45649,
     "end_time": "2024-12-25T15:18:50.443961",
     "exception": false,
     "start_time": "2024-12-25T15:18:46.987471",
     "status": "completed"
    },
    "tags": []
   },
   "outputs": [],
   "source": [
    "# Загрузка данных\n",
    "holidays = pd.read_csv(\"/kaggle/input/store-sales-time-series-forecasting/holidays_events.csv\")\n",
    "oil = pd.read_csv(\"/kaggle/input/store-sales-time-series-forecasting/oil.csv\")\n",
    "stores = pd.read_csv(\"/kaggle/input/store-sales-time-series-forecasting/stores.csv\")\n",
    "transactions = pd.read_csv(\"/kaggle/input/store-sales-time-series-forecasting/transactions.csv\")\n",
    "train = pd.read_csv(\"/kaggle/input/store-sales-time-series-forecasting/train.csv\")\n",
    "test = pd.read_csv(\"/kaggle/input/store-sales-time-series-forecasting/test.csv\")"
   ]
  },
  {
   "cell_type": "code",
   "execution_count": 3,
   "id": "3d4b1265",
   "metadata": {
    "execution": {
     "iopub.execute_input": "2024-12-25T15:18:50.454299Z",
     "iopub.status.busy": "2024-12-25T15:18:50.453927Z",
     "iopub.status.idle": "2024-12-25T15:18:50.859864Z",
     "shell.execute_reply": "2024-12-25T15:18:50.858827Z"
    },
    "papermill": {
     "duration": 0.413885,
     "end_time": "2024-12-25T15:18:50.862292",
     "exception": false,
     "start_time": "2024-12-25T15:18:50.448407",
     "status": "completed"
    },
    "tags": []
   },
   "outputs": [],
   "source": [
    "holidays = holidays[~holidays['transferred']]  # Убираем перенесённые праздники\n",
    "df_holiday = holidays[['date', 'locale_name']].drop_duplicates()\n",
    "df_holiday['holiday'] = True\n",
    "\n",
    "\n",
    "oil['dcoilwtico'] = oil['dcoilwtico'].interpolate(method = 'linear').fillna(92)\n",
    "\n",
    "train_data = train.copy()\n",
    "train_data['date'] = pd.to_datetime(train_data['date'])"
   ]
  },
  {
   "cell_type": "code",
   "execution_count": 4,
   "id": "fd7f175d",
   "metadata": {
    "execution": {
     "iopub.execute_input": "2024-12-25T15:18:50.872876Z",
     "iopub.status.busy": "2024-12-25T15:18:50.872497Z",
     "iopub.status.idle": "2024-12-25T15:18:50.883945Z",
     "shell.execute_reply": "2024-12-25T15:18:50.882707Z"
    },
    "papermill": {
     "duration": 0.019287,
     "end_time": "2024-12-25T15:18:50.886176",
     "exception": false,
     "start_time": "2024-12-25T15:18:50.866889",
     "status": "completed"
    },
    "tags": []
   },
   "outputs": [],
   "source": [
    "def prepare_data(df, is_test=False):\n",
    "    # Merging data as before\n",
    "    X = (df\n",
    "          .merge(stores, on='store_nbr', how='left')\n",
    "          #.merge(transactions, on=['date', 'store_nbr'], how='left')\n",
    "          #.merge(df_holiday, left_on=['date', 'city'], right_on=['date', 'locale_name'], how='left')\n",
    "          .merge(oil, on='date', how='left')\n",
    "         )\n",
    "    \n",
    "    # Convert 'date' column to datetime\n",
    "    X['date'] = pd.to_datetime(X['date'])\n",
    "    X['day'] = X['date'].dt.day\n",
    "    \n",
    "    X['is_weekday'] = X['date'].dt.weekday\n",
    "    X['month'] = X['date'].dt.month\n",
    "    X['year'] = X['date'].dt.year\n",
    "    X['is_month_end'] = X['date'].dt.is_month_end\n",
    "    X['is_first_salary'] = X['day'] == 15\n",
    "    X[\"day_name\"] = X[\"date\"].dt.day_name()\n",
    "\n",
    "    \n",
    "    # Add trend features ( Order 2 )\n",
    "    date = X[\"date\"].unique()\n",
    "    trend = np.arange(date.shape[0])\n",
    "    trend_features = pd.DataFrame({\n",
    "        \"date\" : date,\n",
    "        \"trend\" : trend,\n",
    "        \"trend_squared\":np.square(trend)\n",
    "        }    \n",
    "    )\n",
    "    trend_features[\"date\"] = pd.to_datetime(trend_features[\"date\"])\n",
    "    X = X.merge( trend_features ,on=\"date\",how=\"left\")\n",
    "\n",
    "    \n",
    "    # Add seasonalities\n",
    "    X[\"sin_day_of_year\"] = np.sin(2 * np.pi * X[\"date\"].dt.dayofyear / 365)\n",
    "    X[\"cos_day_of_year\"] = np.cos(2 * np.pi * X[\"date\"].dt.dayofyear / 365)\n",
    "    X[\"sin_month\"] = np.sin(2 * np.pi * X[\"date\"].dt.month / 12)\n",
    "    X[\"cos_month\"] = np.cos(2 * np.pi * X[\"date\"].dt.month / 12)\n",
    "    \n",
    "    # Add lag features\n",
    "    X[\"sales_lag_28\"] = X.groupby([\"family\", \"store_nbr\"])[\"sales\"].shift(28)\n",
    "    X[\"sales_lag_21\"] = X.groupby([\"family\", \"store_nbr\"])[\"sales\"].shift(21)\n",
    "\n",
    "    # Set proper index and drop unnecessary columns\n",
    "    X = X.set_index('id')\n",
    "    X = X.drop(['date'], axis=1)\n",
    "\n",
    "    return X\n"
   ]
  },
  {
   "cell_type": "code",
   "execution_count": 5,
   "id": "978a809f",
   "metadata": {
    "execution": {
     "iopub.execute_input": "2024-12-25T15:18:50.896828Z",
     "iopub.status.busy": "2024-12-25T15:18:50.896420Z",
     "iopub.status.idle": "2024-12-25T15:18:57.937309Z",
     "shell.execute_reply": "2024-12-25T15:18:57.936070Z"
    },
    "papermill": {
     "duration": 7.049312,
     "end_time": "2024-12-25T15:18:57.939987",
     "exception": false,
     "start_time": "2024-12-25T15:18:50.890675",
     "status": "completed"
    },
    "tags": []
   },
   "outputs": [
    {
     "data": {
      "text/plain": [
       "Index(['store_nbr', 'family', 'sales', 'onpromotion', 'city', 'state', 'type',\n",
       "       'cluster', 'dcoilwtico', 'day', 'is_weekday', 'month', 'year',\n",
       "       'is_month_end', 'is_first_salary', 'day_name', 'trend', 'trend_squared',\n",
       "       'sin_day_of_year', 'cos_day_of_year', 'sin_month', 'cos_month',\n",
       "       'sales_lag_28', 'sales_lag_21'],\n",
       "      dtype='object')"
      ]
     },
     "execution_count": 5,
     "metadata": {},
     "output_type": "execute_result"
    }
   ],
   "source": [
    "X_train = prepare_data(train)\n",
    "X_train.columns"
   ]
  },
  {
   "cell_type": "code",
   "execution_count": 6,
   "id": "a7ddced8",
   "metadata": {
    "execution": {
     "iopub.execute_input": "2024-12-25T15:18:57.953389Z",
     "iopub.status.busy": "2024-12-25T15:18:57.952943Z",
     "iopub.status.idle": "2024-12-25T15:18:57.973715Z",
     "shell.execute_reply": "2024-12-25T15:18:57.972231Z"
    },
    "papermill": {
     "duration": 0.030214,
     "end_time": "2024-12-25T15:18:57.976329",
     "exception": false,
     "start_time": "2024-12-25T15:18:57.946115",
     "status": "completed"
    },
    "tags": []
   },
   "outputs": [
    {
     "name": "stdout",
     "output_type": "stream",
     "text": [
      "<class 'pandas.core.frame.DataFrame'>\n",
      "Index: 3000888 entries, 0 to 3000887\n",
      "Data columns (total 24 columns):\n",
      " #   Column           Dtype  \n",
      "---  ------           -----  \n",
      " 0   store_nbr        int64  \n",
      " 1   family           object \n",
      " 2   sales            float64\n",
      " 3   onpromotion      int64  \n",
      " 4   city             object \n",
      " 5   state            object \n",
      " 6   type             object \n",
      " 7   cluster          int64  \n",
      " 8   dcoilwtico       float64\n",
      " 9   day              int32  \n",
      " 10  is_weekday       int32  \n",
      " 11  month            int32  \n",
      " 12  year             int32  \n",
      " 13  is_month_end     bool   \n",
      " 14  is_first_salary  bool   \n",
      " 15  day_name         object \n",
      " 16  trend            int64  \n",
      " 17  trend_squared    int64  \n",
      " 18  sin_day_of_year  float64\n",
      " 19  cos_day_of_year  float64\n",
      " 20  sin_month        float64\n",
      " 21  cos_month        float64\n",
      " 22  sales_lag_28     float64\n",
      " 23  sales_lag_21     float64\n",
      "dtypes: bool(2), float64(8), int32(4), int64(5), object(5)\n",
      "memory usage: 486.5+ MB\n"
     ]
    }
   ],
   "source": [
    "X_train.info()"
   ]
  },
  {
   "cell_type": "code",
   "execution_count": 7,
   "id": "bd177221",
   "metadata": {
    "execution": {
     "iopub.execute_input": "2024-12-25T15:18:57.987862Z",
     "iopub.status.busy": "2024-12-25T15:18:57.987444Z",
     "iopub.status.idle": "2024-12-25T15:18:58.032403Z",
     "shell.execute_reply": "2024-12-25T15:18:58.031116Z"
    },
    "papermill": {
     "duration": 0.053489,
     "end_time": "2024-12-25T15:18:58.034937",
     "exception": false,
     "start_time": "2024-12-25T15:18:57.981448",
     "status": "completed"
    },
    "tags": []
   },
   "outputs": [
    {
     "name": "stdout",
     "output_type": "stream",
     "text": [
      "Training Start:  1619838\n",
      "Training End:  2974158\n",
      "Validation Start:  2974158\n"
     ]
    }
   ],
   "source": [
    "# Для числовых признаков\n",
    "numerical_features = ['dcoilwtico']\n",
    "\n",
    "# Для категориальных признаков (исключаем числовые и столбцы с датой)\n",
    "categorical_features = [\"family\",\"city\",\"state\",\"type\",\"day_name\"]\n",
    "\n",
    "\n",
    "training_start = train_data[train_data['date'] == '2015-07-01'].index[0]\n",
    "training_end = train_data[train_data['date'] == '2017-08-01'].index[0]\n",
    "validation_start = train_data[train_data['date'] >= '2017-08-01'].index[0]\n",
    "\n",
    "\n",
    "print(\"Training Start: \", training_start)\n",
    "print(\"Training End: \", training_end)\n",
    "print(\"Validation Start: \", validation_start)"
   ]
  },
  {
   "cell_type": "code",
   "execution_count": 8,
   "id": "ae4520ea",
   "metadata": {
    "execution": {
     "iopub.execute_input": "2024-12-25T15:18:58.046845Z",
     "iopub.status.busy": "2024-12-25T15:18:58.046430Z",
     "iopub.status.idle": "2024-12-25T15:19:02.113420Z",
     "shell.execute_reply": "2024-12-25T15:19:02.112141Z"
    },
    "papermill": {
     "duration": 4.076219,
     "end_time": "2024-12-25T15:19:02.116106",
     "exception": false,
     "start_time": "2024-12-25T15:18:58.039887",
     "status": "completed"
    },
    "tags": []
   },
   "outputs": [
    {
     "data": {
      "image/png": "[encoded data removed]",
      "text/plain": [
       "<Figure size 600x400 with 2 Axes>"
      ]
     },
     "metadata": {},
     "output_type": "display_data"
    }
   ],
   "source": [
    "import matplotlib.pyplot as plt\n",
    "import seaborn as sns\n",
    "\n",
    "# Вычисляем корреляцию только с целевой переменной 'sales'\n",
    "correlation_with_sales = X_train.corr(numeric_only=True)[['sales']].sort_values(by='sales', ascending=False)\n",
    "\n",
    "# Создаём тепловую карту\n",
    "plt.figure(figsize=(6, 4))\n",
    "sns.heatmap(correlation_with_sales, annot=True, cmap='coolwarm', cbar=True, fmt='.2f')\n",
    "plt.title('Correlation with Sales')\n",
    "plt.show()"
   ]
  },
  {
   "cell_type": "code",
   "execution_count": 9,
   "id": "bacf24f9",
   "metadata": {
    "execution": {
     "iopub.execute_input": "2024-12-25T15:19:02.128990Z",
     "iopub.status.busy": "2024-12-25T15:19:02.128413Z",
     "iopub.status.idle": "2024-12-25T15:19:02.264600Z",
     "shell.execute_reply": "2024-12-25T15:19:02.263047Z"
    },
    "papermill": {
     "duration": 0.145392,
     "end_time": "2024-12-25T15:19:02.267116",
     "exception": false,
     "start_time": "2024-12-25T15:19:02.121724",
     "status": "completed"
    },
    "tags": []
   },
   "outputs": [],
   "source": [
    "X = X_train[training_start : training_end].drop('sales', axis = 1)\n",
    "y = X_train[training_start : training_end]['sales']\n",
    "\n",
    "X_validation = X_train[validation_start : ].drop('sales', axis = 1)\n",
    "y_validation = X_train[validation_start : ]['sales']"
   ]
  },
  {
   "cell_type": "markdown",
   "id": "38bad64b",
   "metadata": {
    "papermill": {
     "duration": 0.005014,
     "end_time": "2024-12-25T15:19:02.277770",
     "exception": false,
     "start_time": "2024-12-25T15:19:02.272756",
     "status": "completed"
    },
    "tags": []
   },
   "source": [
    "# Пайплайн"
   ]
  },
  {
   "cell_type": "code",
   "execution_count": 10,
   "id": "579a16cf",
   "metadata": {
    "execution": {
     "iopub.execute_input": "2024-12-25T15:19:02.289971Z",
     "iopub.status.busy": "2024-12-25T15:19:02.289612Z",
     "iopub.status.idle": "2024-12-25T15:19:02.297891Z",
     "shell.execute_reply": "2024-12-25T15:19:02.296769Z"
    },
    "papermill": {
     "duration": 0.017084,
     "end_time": "2024-12-25T15:19:02.300082",
     "exception": false,
     "start_time": "2024-12-25T15:19:02.282998",
     "status": "completed"
    },
    "tags": []
   },
   "outputs": [],
   "source": [
    "# Предобработка данных\n",
    "numerical_pipeline = Pipeline([\n",
    "    ('fillna', SimpleImputer(strategy='median')),\n",
    "    ('scaler', StandardScaler())\n",
    "])\n",
    "\n",
    "\n",
    "categorical_pipeline = Pipeline([\n",
    "    ('impute', SimpleImputer(strategy='most_frequent')),\n",
    "    ('encoding', OneHotEncoder(handle_unknown='ignore', sparse=True))\n",
    "])\n",
    "\n",
    "\n",
    "preprocessor = ColumnTransformer([\n",
    "    ('num', numerical_pipeline, numerical_features),  # Для числовых признаков\n",
    "    ('cat', categorical_pipeline, categorical_features)  # Для категориальных\n",
    "    ], \n",
    "    remainder='passthrough'\n",
    ")\n",
    "\n",
    "\n",
    "# Модель \n",
    "model = xgb.XGBRegressor(\n",
    "    objective=\"reg:tweedie\",  # Используем правильное значение для Tweedie Loss\n",
    "    n_estimators=987,  # Количество деревьев\n",
    "    learning_rate=0.03974568823588938,  # Скорость обучения\n",
    "    depth=14,  # Максимальная глубина дерева\n",
    "    min_data_in_leaf=5,  # Минимальное количество данных в узле (аналог min_child_weight)\n",
    "    subsample=0.7,  # Доля выборки для построения дерева\n",
    "    colsample_bylevel=0.5,  # Доля признаков на уровне дерева\n",
    "    reg_lambda=0.3882731379185479,  # L2-регуляризация\n",
    "    reg_alpha=0.009556952677129724  # L1-регуляризация\n",
    ")\n",
    "\n",
    "\n",
    "\n",
    "# Создаем финальный пайплайн с выбранной моделью\n",
    "model_pipeline = Pipeline([\n",
    "    ('preprocessor', preprocessor),\n",
    "    ('model', model)\n",
    "])"
   ]
  },
  {
   "cell_type": "markdown",
   "id": "3c6f281b",
   "metadata": {
    "papermill": {
     "duration": 0.005005,
     "end_time": "2024-12-25T15:19:02.310626",
     "exception": false,
     "start_time": "2024-12-25T15:19:02.305621",
     "status": "completed"
    },
    "tags": []
   },
   "source": [
    "# Обучение"
   ]
  },
  {
   "cell_type": "code",
   "execution_count": 11,
   "id": "83b19c91",
   "metadata": {
    "execution": {
     "iopub.execute_input": "2024-12-25T15:19:02.322745Z",
     "iopub.status.busy": "2024-12-25T15:19:02.322367Z",
     "iopub.status.idle": "2024-12-25T15:22:17.886022Z",
     "shell.execute_reply": "2024-12-25T15:22:17.884470Z"
    },
    "papermill": {
     "duration": 195.57854,
     "end_time": "2024-12-25T15:22:17.894467",
     "exception": false,
     "start_time": "2024-12-25T15:19:02.315927",
     "status": "completed"
    },
    "tags": []
   },
   "outputs": [
    {
     "name": "stderr",
     "output_type": "stream",
     "text": [
      "/opt/conda/lib/python3.10/site-packages/sklearn/preprocessing/_encoders.py:868: FutureWarning: `sparse` was renamed to `sparse_output` in version 1.2 and will be removed in 1.4. `sparse_output` is ignored unless you leave `sparse` to its default value.\n",
      "  warnings.warn(\n",
      "/opt/conda/lib/python3.10/site-packages/xgboost/core.py:160: UserWarning: [15:19:08] WARNING: /workspace/src/learner.cc:742: \n",
      "Parameters: { \"depth\", \"min_data_in_leaf\" } are not used.\n",
      "\n",
      "  warnings.warn(smsg, UserWarning)\n"
     ]
    },
    {
     "name": "stdout",
     "output_type": "stream",
     "text": [
      "RMSLE: 0.47574813032260616\n",
      "MAE: 60.13507020460128\n",
      "R2: 0.9518265728848506\n"
     ]
    }
   ],
   "source": [
    "# Обучаем модель\n",
    "model_pipeline.fit(X, y)\n",
    "\n",
    "y_pred = model_pipeline.predict(X)\n",
    "\n",
    "\n",
    "print(\"RMSLE:\",np.sqrt(mean_squared_log_error(y, y_pred)))\n",
    "print(\"MAE:\",mean_absolute_error(y, y_pred))\n",
    "print(\"R2:\",r2_score(y, y_pred))"
   ]
  },
  {
   "cell_type": "markdown",
   "id": "b062a131",
   "metadata": {
    "papermill": {
     "duration": 0.005269,
     "end_time": "2024-12-25T15:22:17.905301",
     "exception": false,
     "start_time": "2024-12-25T15:22:17.900032",
     "status": "completed"
    },
    "tags": []
   },
   "source": [
    "# Валидация"
   ]
  },
  {
   "cell_type": "code",
   "execution_count": 12,
   "id": "ecb25883",
   "metadata": {
    "execution": {
     "iopub.execute_input": "2024-12-25T15:22:17.918232Z",
     "iopub.status.busy": "2024-12-25T15:22:17.917841Z",
     "iopub.status.idle": "2024-12-25T15:22:19.084504Z",
     "shell.execute_reply": "2024-12-25T15:22:19.083522Z"
    },
    "papermill": {
     "duration": 1.176298,
     "end_time": "2024-12-25T15:22:19.087127",
     "exception": false,
     "start_time": "2024-12-25T15:22:17.910829",
     "status": "completed"
    },
    "tags": []
   },
   "outputs": [
    {
     "name": "stdout",
     "output_type": "stream",
     "text": [
      "RMSLE: 0.44381074894363526\n",
      "MAE: 81.074192983708\n",
      "R2: 0.9532151255951204\n"
     ]
    }
   ],
   "source": [
    "y_pred_validation = model_pipeline.predict(X_validation)\n",
    "\n",
    "\n",
    "print(\"RMSLE:\",np.sqrt(mean_squared_log_error(y_validation, y_pred_validation)))\n",
    "print(\"MAE:\",mean_absolute_error(y_validation, y_pred_validation))\n",
    "print(\"R2:\",r2_score(y_validation, y_pred_validation))"
   ]
  },
  {
   "cell_type": "code",
   "execution_count": 13,
   "id": "466eebb2",
   "metadata": {
    "execution": {
     "iopub.execute_input": "2024-12-25T15:22:19.101827Z",
     "iopub.status.busy": "2024-12-25T15:22:19.101425Z",
     "iopub.status.idle": "2024-12-25T15:22:19.269793Z",
     "shell.execute_reply": "2024-12-25T15:22:19.268332Z"
    },
    "papermill": {
     "duration": 0.178514,
     "end_time": "2024-12-25T15:22:19.272500",
     "exception": false,
     "start_time": "2024-12-25T15:22:19.093986",
     "status": "completed"
    },
    "tags": []
   },
   "outputs": [],
   "source": [
    "# Длина массива\n",
    "test_size=test.shape[0]\n",
    "\n",
    "test_data = pd.concat([train , test])\n",
    "\n",
    "# Выборка по длине тестовых данных\n",
    "ids = test_data[\"id\"].tail(test_size)"
   ]
  },
  {
   "cell_type": "code",
   "execution_count": 14,
   "id": "328c00ab",
   "metadata": {
    "execution": {
     "iopub.execute_input": "2024-12-25T15:22:19.286924Z",
     "iopub.status.busy": "2024-12-25T15:22:19.286241Z",
     "iopub.status.idle": "2024-12-25T15:22:27.646945Z",
     "shell.execute_reply": "2024-12-25T15:22:27.645701Z"
    },
    "papermill": {
     "duration": 8.371341,
     "end_time": "2024-12-25T15:22:27.649775",
     "exception": false,
     "start_time": "2024-12-25T15:22:19.278434",
     "status": "completed"
    },
    "tags": []
   },
   "outputs": [],
   "source": [
    "# Предсказания на финальных тестовых данных\n",
    "X_test_final = prepare_data(test_data)\n",
    "X_test_final = X_test_final.tail(test_size)\n",
    "X_test_final.drop(['sales'], axis = 1, inplace = True)\n",
    "\n",
    "\n",
    "y_pred_final = model_pipeline.predict(X_test_final)  # Делаем предсказания\n",
    "\n",
    "# Заменяем отрицательные значения на 0\n",
    "y_pred_final = np.clip(y_pred_final, a_min=0, a_max=None)\n",
    "\n",
    "# Формируем DataFrame с результатами\n",
    "submission = pd.DataFrame({\n",
    "    'id': ids,  # Обратите внимание на использование правильного столбца id\n",
    "    'sales': y_pred_final\n",
    "})\n",
    "\n",
    "# Сохранение результатов в CSV файл\n",
    "submission.to_csv('submission.csv', index=False)"
   ]
  },
  {
   "cell_type": "code",
   "execution_count": 15,
   "id": "21e222c5",
   "metadata": {
    "execution": {
     "iopub.execute_input": "2024-12-25T15:22:27.663292Z",
     "iopub.status.busy": "2024-12-25T15:22:27.662900Z",
     "iopub.status.idle": "2024-12-25T15:22:27.679750Z",
     "shell.execute_reply": "2024-12-25T15:22:27.678599Z"
    },
    "papermill": {
     "duration": 0.026236,
     "end_time": "2024-12-25T15:22:27.682137",
     "exception": false,
     "start_time": "2024-12-25T15:22:27.655901",
     "status": "completed"
    },
    "tags": []
   },
   "outputs": [
    {
     "data": {
      "text/html": [
       "<div>\n",
       "<style scoped>\n",
       "    .dataframe tbody tr th:only-of-type {\n",
       "        vertical-align: middle;\n",
       "    }\n",
       "\n",
       "    .dataframe tbody tr th {\n",
       "        vertical-align: top;\n",
       "    }\n",
       "\n",
       "    .dataframe thead th {\n",
       "        text-align: right;\n",
       "    }\n",
       "</style>\n",
       "<table border=\"1\" class=\"dataframe\">\n",
       "  <thead>\n",
       "    <tr style=\"text-align: right;\">\n",
       "      <th></th>\n",
       "      <th>id</th>\n",
       "      <th>sales</th>\n",
       "    </tr>\n",
       "  </thead>\n",
       "  <tbody>\n",
       "    <tr>\n",
       "      <th>0</th>\n",
       "      <td>3000888</td>\n",
       "      <td>5.856771</td>\n",
       "    </tr>\n",
       "    <tr>\n",
       "      <th>1</th>\n",
       "      <td>3000889</td>\n",
       "      <td>0.022115</td>\n",
       "    </tr>\n",
       "    <tr>\n",
       "      <th>2</th>\n",
       "      <td>3000890</td>\n",
       "      <td>6.562846</td>\n",
       "    </tr>\n",
       "    <tr>\n",
       "      <th>3</th>\n",
       "      <td>3000891</td>\n",
       "      <td>2700.441895</td>\n",
       "    </tr>\n",
       "    <tr>\n",
       "      <th>4</th>\n",
       "      <td>3000892</td>\n",
       "      <td>0.082908</td>\n",
       "    </tr>\n",
       "    <tr>\n",
       "      <th>...</th>\n",
       "      <td>...</td>\n",
       "      <td>...</td>\n",
       "    </tr>\n",
       "    <tr>\n",
       "      <th>28507</th>\n",
       "      <td>3029395</td>\n",
       "      <td>326.062744</td>\n",
       "    </tr>\n",
       "    <tr>\n",
       "      <th>28508</th>\n",
       "      <td>3029396</td>\n",
       "      <td>90.988976</td>\n",
       "    </tr>\n",
       "    <tr>\n",
       "      <th>28509</th>\n",
       "      <td>3029397</td>\n",
       "      <td>1126.508057</td>\n",
       "    </tr>\n",
       "    <tr>\n",
       "      <th>28510</th>\n",
       "      <td>3029398</td>\n",
       "      <td>72.493568</td>\n",
       "    </tr>\n",
       "    <tr>\n",
       "      <th>28511</th>\n",
       "      <td>3029399</td>\n",
       "      <td>15.867760</td>\n",
       "    </tr>\n",
       "  </tbody>\n",
       "</table>\n",
       "<p>28512 rows × 2 columns</p>\n",
       "</div>"
      ],
      "text/plain": [
       "            id        sales\n",
       "0      3000888     5.856771\n",
       "1      3000889     0.022115\n",
       "2      3000890     6.562846\n",
       "3      3000891  2700.441895\n",
       "4      3000892     0.082908\n",
       "...        ...          ...\n",
       "28507  3029395   326.062744\n",
       "28508  3029396    90.988976\n",
       "28509  3029397  1126.508057\n",
       "28510  3029398    72.493568\n",
       "28511  3029399    15.867760\n",
       "\n",
       "[28512 rows x 2 columns]"
      ]
     },
     "execution_count": 15,
     "metadata": {},
     "output_type": "execute_result"
    }
   ],
   "source": [
    "submission"
   ]
  }
 ],
 "metadata": {
  "kaggle": {
   "accelerator": "none",
   "dataSources": [
    {
     "databundleVersionId": 2887556,
     "sourceId": 29781,
     "sourceType": "competition"
    }
   ],
   "dockerImageVersionId": 30804,
   "isGpuEnabled": false,
   "isInternetEnabled": false,
   "language": "python",
   "sourceType": "notebook"
  },
  "kernelspec": {
   "display_name": "Python 3",
   "language": "python",
   "name": "python3"
  },
  "language_info": {
   "codemirror_mode": {
    "name": "ipython",
    "version": 3
   },
   "file_extension": ".py",
   "mimetype": "text/x-python",
   "name": "python",
   "nbconvert_exporter": "python",
   "pygments_lexer": "ipython3",
   "version": "3.10.14"
  },
  "papermill": {
   "default_parameters": {},
   "duration": 229.353752,
   "end_time": "2024-12-25T15:22:28.713224",
   "environment_variables": {},
   "exception": null,
   "input_path": "__notebook__.ipynb",
   "output_path": "__notebook__.ipynb",
   "parameters": {},
   "start_time": "2024-12-25T15:18:39.359472",
   "version": "2.6.0"
  }
 },
 "nbformat": 4,
 "nbformat_minor": 5
}
